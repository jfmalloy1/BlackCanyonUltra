{
  "nbformat": 4,
  "nbformat_minor": 0,
  "metadata": {
    "colab": {
      "name": "BC_analysis.ipynb",
      "provenance": [],
      "collapsed_sections": []
    },
    "kernelspec": {
      "name": "python3",
      "display_name": "Python 3"
    }
  },
  "cells": [
    {
      "cell_type": "code",
      "metadata": {
        "colab": {
          "base_uri": "https://localhost:8080/"
        },
        "id": "4da-nMUeGNkT",
        "outputId": "4b6b48dc-ea28-4e34-ca70-75e6ff1f832b"
      },
      "source": [
        "import pandas as pd\n",
        "import pickle\n",
        "import datetime as DT\n",
        "from operator import mul\n",
        "import matplotlib.pyplot as plt\n",
        "import numpy as np\n",
        "import scipy.stats as stats\n",
        "import seaborn as sns\n",
        "sns.set_style(\"white\")\n",
        "\n",
        "from google.colab import drive\n",
        "drive.mount('/content/gdrive')"
      ],
      "execution_count": 1,
      "outputs": [
        {
          "output_type": "stream",
          "text": [
            "Mounted at /content/gdrive\n"
          ],
          "name": "stdout"
        }
      ]
    },
    {
      "cell_type": "markdown",
      "metadata": {
        "id": "nvm1QYNUIOhj"
      },
      "source": [
        "Convert time to minutes\n",
        "\n",
        "From: https://stackoverflow.com/questions/48447123/convert-time-hhmmss-to-minutes-in-python/48447482 "
      ]
    },
    {
      "cell_type": "code",
      "metadata": {
        "id": "wkxD-SNsIM64"
      },
      "source": [
        "#Function to convert time to minutes\n",
        "def convert_to_minutes(my_time):\n",
        "  factors = (60, 1, 1/60)\n",
        "\n",
        "  t1 = sum(i*j for i, j in zip(map(int, my_time.split(':')), factors))\n",
        "  return t1"
      ],
      "execution_count": 2,
      "outputs": []
    },
    {
      "cell_type": "markdown",
      "metadata": {
        "id": "D8HPyyPpSOWm"
      },
      "source": [
        "# Analysis Function\n",
        "\n",
        "Reads in a specific year of results, returns a pandas dataframe of finisher data (including minutes elapsed)"
      ]
    },
    {
      "cell_type": "code",
      "metadata": {
        "id": "3f-8iDsISkh3"
      },
      "source": [
        "### Finds a specific year of results, removes non-finishers, calculates time in minutes ###\n",
        "def analyze_year(year):\n",
        "  #Read in files\n",
        "  fp = \"/content/gdrive/Shared drives/ELIFE/People/Malloy, John/Random/Black Canyon/BC\" + str(year) + \"_100k.p\"\n",
        "  df = pickle.load(open(fp, \"rb\"))\n",
        "\n",
        "  #Drop the \"Did not finish\" line\n",
        "  df = df.drop(df.loc[df[\"State\"] == \"Did\"].index[0])\n",
        "\n",
        "  #Create a minutes field to sum up every time - contingent upon convert_to_minutes() function\n",
        "  df[\"Minutes\"] = df[\"Time\"].apply(convert_to_minutes)\n",
        "  \n",
        "  return df[df[\"Minutes\"] > 0]"
      ],
      "execution_count": 3,
      "outputs": []
    },
    {
      "cell_type": "code",
      "metadata": {
        "id": "GOJa3_SG0la8"
      },
      "source": [
        "### Finds the percentiles of each finisher using the np.floor function to round all percentiles down ###\r\n",
        "def find_percentiles(year):\r\n",
        "  #Find specific data for a specific year, filter out non-finishers\r\n",
        "  df = analyze_year(year)\r\n",
        "\r\n",
        "  #Find percentiles, round down for each one (using np.floor)\r\n",
        "  percentiles = df[\"Minutes\"].apply(lambda x: stats.percentileofscore(df[\"Minutes\"], x))\r\n",
        "  df[\"Percentiles\"] = percentiles\r\n",
        "  df[\"Percentiles\"] = df[\"Percentiles\"].apply(np.floor)\r\n",
        "  \r\n",
        "  #print(df)\r\n",
        "  return df"
      ],
      "execution_count": 4,
      "outputs": []
    },
    {
      "cell_type": "markdown",
      "metadata": {
        "id": "OGo4J6DQ04j_"
      },
      "source": [
        "# Function testing\r\n",
        "\r\n",
        "Testing functions to ensure correct performance"
      ]
    },
    {
      "cell_type": "code",
      "metadata": {
        "colab": {
          "base_uri": "https://localhost:8080/",
          "height": 679
        },
        "id": "ijMAC25T09Ky",
        "outputId": "15451151-9809-47b5-9b31-ac9d23990cfa"
      },
      "source": [
        "find_percentiles(2021)"
      ],
      "execution_count": null,
      "outputs": [
        {
          "output_type": "stream",
          "text": [
            "    State Age Gender   GP      Time   Rank      Minutes  Percentiles\n",
            "0      AZ  31      M    2   8:10:54  92.07   490.900000          0.0\n",
            "1      AZ  33      M    3   8:16:23  84.48   496.383333          0.0\n",
            "2      WY  28      M    4   8:34:49  90.15   514.816667          0.0\n",
            "3      MN  26      M    5   8:36:28  87.77   516.466667          1.0\n",
            "4      CA  36      M    6   8:36:37  97.15   516.616667          1.0\n",
            "..    ...  ..    ...  ...       ...    ...          ...          ...\n",
            "359    UT  43      F   99  19:52:48  69.05  1192.800000         98.0\n",
            "360    CA  44      M  263  19:54:24   50.3  1194.400000         99.0\n",
            "361    AZ  46      M  264  19:56:47  58.66  1196.783333         99.0\n",
            "389    CA  60      F    0  20:09:38  62.78  1209.633333         99.0\n",
            "409    CA  53      F    0  20:13:41  59.95  1213.683333        100.0\n",
            "\n",
            "[364 rows x 8 columns]\n"
          ],
          "name": "stdout"
        },
        {
          "output_type": "execute_result",
          "data": {
            "text/html": [
              "<div>\n",
              "<style scoped>\n",
              "    .dataframe tbody tr th:only-of-type {\n",
              "        vertical-align: middle;\n",
              "    }\n",
              "\n",
              "    .dataframe tbody tr th {\n",
              "        vertical-align: top;\n",
              "    }\n",
              "\n",
              "    .dataframe thead th {\n",
              "        text-align: right;\n",
              "    }\n",
              "</style>\n",
              "<table border=\"1\" class=\"dataframe\">\n",
              "  <thead>\n",
              "    <tr style=\"text-align: right;\">\n",
              "      <th></th>\n",
              "      <th>State</th>\n",
              "      <th>Age</th>\n",
              "      <th>Gender</th>\n",
              "      <th>GP</th>\n",
              "      <th>Time</th>\n",
              "      <th>Rank</th>\n",
              "      <th>Minutes</th>\n",
              "      <th>Percentiles</th>\n",
              "    </tr>\n",
              "  </thead>\n",
              "  <tbody>\n",
              "    <tr>\n",
              "      <th>0</th>\n",
              "      <td>AZ</td>\n",
              "      <td>31</td>\n",
              "      <td>M</td>\n",
              "      <td>2</td>\n",
              "      <td>8:10:54</td>\n",
              "      <td>92.07</td>\n",
              "      <td>490.900000</td>\n",
              "      <td>0.0</td>\n",
              "    </tr>\n",
              "    <tr>\n",
              "      <th>1</th>\n",
              "      <td>AZ</td>\n",
              "      <td>33</td>\n",
              "      <td>M</td>\n",
              "      <td>3</td>\n",
              "      <td>8:16:23</td>\n",
              "      <td>84.48</td>\n",
              "      <td>496.383333</td>\n",
              "      <td>0.0</td>\n",
              "    </tr>\n",
              "    <tr>\n",
              "      <th>2</th>\n",
              "      <td>WY</td>\n",
              "      <td>28</td>\n",
              "      <td>M</td>\n",
              "      <td>4</td>\n",
              "      <td>8:34:49</td>\n",
              "      <td>90.15</td>\n",
              "      <td>514.816667</td>\n",
              "      <td>0.0</td>\n",
              "    </tr>\n",
              "    <tr>\n",
              "      <th>3</th>\n",
              "      <td>MN</td>\n",
              "      <td>26</td>\n",
              "      <td>M</td>\n",
              "      <td>5</td>\n",
              "      <td>8:36:28</td>\n",
              "      <td>87.77</td>\n",
              "      <td>516.466667</td>\n",
              "      <td>1.0</td>\n",
              "    </tr>\n",
              "    <tr>\n",
              "      <th>4</th>\n",
              "      <td>CA</td>\n",
              "      <td>36</td>\n",
              "      <td>M</td>\n",
              "      <td>6</td>\n",
              "      <td>8:36:37</td>\n",
              "      <td>97.15</td>\n",
              "      <td>516.616667</td>\n",
              "      <td>1.0</td>\n",
              "    </tr>\n",
              "    <tr>\n",
              "      <th>...</th>\n",
              "      <td>...</td>\n",
              "      <td>...</td>\n",
              "      <td>...</td>\n",
              "      <td>...</td>\n",
              "      <td>...</td>\n",
              "      <td>...</td>\n",
              "      <td>...</td>\n",
              "      <td>...</td>\n",
              "    </tr>\n",
              "    <tr>\n",
              "      <th>359</th>\n",
              "      <td>UT</td>\n",
              "      <td>43</td>\n",
              "      <td>F</td>\n",
              "      <td>99</td>\n",
              "      <td>19:52:48</td>\n",
              "      <td>69.05</td>\n",
              "      <td>1192.800000</td>\n",
              "      <td>98.0</td>\n",
              "    </tr>\n",
              "    <tr>\n",
              "      <th>360</th>\n",
              "      <td>CA</td>\n",
              "      <td>44</td>\n",
              "      <td>M</td>\n",
              "      <td>263</td>\n",
              "      <td>19:54:24</td>\n",
              "      <td>50.3</td>\n",
              "      <td>1194.400000</td>\n",
              "      <td>99.0</td>\n",
              "    </tr>\n",
              "    <tr>\n",
              "      <th>361</th>\n",
              "      <td>AZ</td>\n",
              "      <td>46</td>\n",
              "      <td>M</td>\n",
              "      <td>264</td>\n",
              "      <td>19:56:47</td>\n",
              "      <td>58.66</td>\n",
              "      <td>1196.783333</td>\n",
              "      <td>99.0</td>\n",
              "    </tr>\n",
              "    <tr>\n",
              "      <th>389</th>\n",
              "      <td>CA</td>\n",
              "      <td>60</td>\n",
              "      <td>F</td>\n",
              "      <td>0</td>\n",
              "      <td>20:09:38</td>\n",
              "      <td>62.78</td>\n",
              "      <td>1209.633333</td>\n",
              "      <td>99.0</td>\n",
              "    </tr>\n",
              "    <tr>\n",
              "      <th>409</th>\n",
              "      <td>CA</td>\n",
              "      <td>53</td>\n",
              "      <td>F</td>\n",
              "      <td>0</td>\n",
              "      <td>20:13:41</td>\n",
              "      <td>59.95</td>\n",
              "      <td>1213.683333</td>\n",
              "      <td>100.0</td>\n",
              "    </tr>\n",
              "  </tbody>\n",
              "</table>\n",
              "<p>364 rows × 8 columns</p>\n",
              "</div>"
            ],
            "text/plain": [
              "    State Age Gender   GP      Time   Rank      Minutes  Percentiles\n",
              "0      AZ  31      M    2   8:10:54  92.07   490.900000          0.0\n",
              "1      AZ  33      M    3   8:16:23  84.48   496.383333          0.0\n",
              "2      WY  28      M    4   8:34:49  90.15   514.816667          0.0\n",
              "3      MN  26      M    5   8:36:28  87.77   516.466667          1.0\n",
              "4      CA  36      M    6   8:36:37  97.15   516.616667          1.0\n",
              "..    ...  ..    ...  ...       ...    ...          ...          ...\n",
              "359    UT  43      F   99  19:52:48  69.05  1192.800000         98.0\n",
              "360    CA  44      M  263  19:54:24   50.3  1194.400000         99.0\n",
              "361    AZ  46      M  264  19:56:47  58.66  1196.783333         99.0\n",
              "389    CA  60      F    0  20:09:38  62.78  1209.633333         99.0\n",
              "409    CA  53      F    0  20:13:41  59.95  1213.683333        100.0\n",
              "\n",
              "[364 rows x 8 columns]"
            ]
          },
          "metadata": {
            "tags": []
          },
          "execution_count": 50
        }
      ]
    },
    {
      "cell_type": "markdown",
      "metadata": {
        "id": "rAGDUi0DTBcT"
      },
      "source": [
        "#Plotting"
      ]
    },
    {
      "cell_type": "code",
      "metadata": {
        "colab": {
          "base_uri": "https://localhost:8080/",
          "height": 658
        },
        "id": "8PBN6pFkLCnX",
        "outputId": "97486bef-76eb-4d91-bcca-9082244662d2"
      },
      "source": [
        "#Distribution of minutes across all finishers (normalized based on the number of finishers)\n",
        "fig = plt.figure()\n",
        "for year in [2014, 2015, 2016, 2017, 2018, 2019, 2020, 2021]:\n",
        "  df = analyze_year(year)\n",
        "  \n",
        "  plt.scatter(x=np.linspace(0,1,len(df)), y=df[\"Minutes\"], label=str(year) + \" BC 100k\", alpha=0.5, s=10, marker='x')\n",
        "  plt.xlabel(\"Finishing percentile\")\n",
        "  plt.ylabel(\"Minutes\")\n",
        "# plt.gca().spines(\"top\").set_visible(False)\n",
        "# plt.gca().spines(\"right\").set_visible(False)\n",
        "plt.legend()\n",
        "plt.show()"
      ],
      "execution_count": 5,
      "outputs": [
        {
          "output_type": "error",
          "ename": "IndexError",
          "evalue": "ignored",
          "traceback": [
            "\u001b[0;31m---------------------------------------------------------------------------\u001b[0m",
            "\u001b[0;31mIndexError\u001b[0m                                Traceback (most recent call last)",
            "\u001b[0;32m<ipython-input-5-f52cf08be9ea>\u001b[0m in \u001b[0;36m<module>\u001b[0;34m()\u001b[0m\n\u001b[1;32m      2\u001b[0m \u001b[0mfig\u001b[0m \u001b[0;34m=\u001b[0m \u001b[0mplt\u001b[0m\u001b[0;34m.\u001b[0m\u001b[0mfigure\u001b[0m\u001b[0;34m(\u001b[0m\u001b[0;34m)\u001b[0m\u001b[0;34m\u001b[0m\u001b[0;34m\u001b[0m\u001b[0m\n\u001b[1;32m      3\u001b[0m \u001b[0;32mfor\u001b[0m \u001b[0myear\u001b[0m \u001b[0;32min\u001b[0m \u001b[0;34m[\u001b[0m\u001b[0;36m2014\u001b[0m\u001b[0;34m,\u001b[0m \u001b[0;36m2015\u001b[0m\u001b[0;34m,\u001b[0m \u001b[0;36m2016\u001b[0m\u001b[0;34m,\u001b[0m \u001b[0;36m2017\u001b[0m\u001b[0;34m,\u001b[0m \u001b[0;36m2018\u001b[0m\u001b[0;34m,\u001b[0m \u001b[0;36m2019\u001b[0m\u001b[0;34m,\u001b[0m \u001b[0;36m2020\u001b[0m\u001b[0;34m,\u001b[0m \u001b[0;36m2021\u001b[0m\u001b[0;34m]\u001b[0m\u001b[0;34m:\u001b[0m\u001b[0;34m\u001b[0m\u001b[0;34m\u001b[0m\u001b[0m\n\u001b[0;32m----> 4\u001b[0;31m   \u001b[0mdf\u001b[0m \u001b[0;34m=\u001b[0m \u001b[0manalyze_year\u001b[0m\u001b[0;34m(\u001b[0m\u001b[0myear\u001b[0m\u001b[0;34m)\u001b[0m\u001b[0;34m\u001b[0m\u001b[0;34m\u001b[0m\u001b[0m\n\u001b[0m\u001b[1;32m      5\u001b[0m \u001b[0;34m\u001b[0m\u001b[0m\n\u001b[1;32m      6\u001b[0m   \u001b[0mplt\u001b[0m\u001b[0;34m.\u001b[0m\u001b[0mscatter\u001b[0m\u001b[0;34m(\u001b[0m\u001b[0mx\u001b[0m\u001b[0;34m=\u001b[0m\u001b[0mnp\u001b[0m\u001b[0;34m.\u001b[0m\u001b[0mlinspace\u001b[0m\u001b[0;34m(\u001b[0m\u001b[0;36m0\u001b[0m\u001b[0;34m,\u001b[0m\u001b[0;36m1\u001b[0m\u001b[0;34m,\u001b[0m\u001b[0mlen\u001b[0m\u001b[0;34m(\u001b[0m\u001b[0mdf\u001b[0m\u001b[0;34m)\u001b[0m\u001b[0;34m)\u001b[0m\u001b[0;34m,\u001b[0m \u001b[0my\u001b[0m\u001b[0;34m=\u001b[0m\u001b[0mdf\u001b[0m\u001b[0;34m[\u001b[0m\u001b[0;34m\"Minutes\"\u001b[0m\u001b[0;34m]\u001b[0m\u001b[0;34m,\u001b[0m \u001b[0mlabel\u001b[0m\u001b[0;34m=\u001b[0m\u001b[0mstr\u001b[0m\u001b[0;34m(\u001b[0m\u001b[0myear\u001b[0m\u001b[0;34m)\u001b[0m \u001b[0;34m+\u001b[0m \u001b[0;34m\" BC 100k\"\u001b[0m\u001b[0;34m,\u001b[0m \u001b[0malpha\u001b[0m\u001b[0;34m=\u001b[0m\u001b[0;36m0.5\u001b[0m\u001b[0;34m,\u001b[0m \u001b[0ms\u001b[0m\u001b[0;34m=\u001b[0m\u001b[0;36m10\u001b[0m\u001b[0;34m,\u001b[0m \u001b[0mmarker\u001b[0m\u001b[0;34m=\u001b[0m\u001b[0;34m'x'\u001b[0m\u001b[0;34m)\u001b[0m\u001b[0;34m\u001b[0m\u001b[0;34m\u001b[0m\u001b[0m\n",
            "\u001b[0;32m<ipython-input-3-fae68ca828f1>\u001b[0m in \u001b[0;36manalyze_year\u001b[0;34m(year)\u001b[0m\n\u001b[1;32m      6\u001b[0m \u001b[0;34m\u001b[0m\u001b[0m\n\u001b[1;32m      7\u001b[0m   \u001b[0;31m#Drop the \"Did not finish\" line\u001b[0m\u001b[0;34m\u001b[0m\u001b[0;34m\u001b[0m\u001b[0;34m\u001b[0m\u001b[0m\n\u001b[0;32m----> 8\u001b[0;31m   \u001b[0mdf\u001b[0m \u001b[0;34m=\u001b[0m \u001b[0mdf\u001b[0m\u001b[0;34m.\u001b[0m\u001b[0mdrop\u001b[0m\u001b[0;34m(\u001b[0m\u001b[0mdf\u001b[0m\u001b[0;34m.\u001b[0m\u001b[0mloc\u001b[0m\u001b[0;34m[\u001b[0m\u001b[0mdf\u001b[0m\u001b[0;34m[\u001b[0m\u001b[0;34m\"State\"\u001b[0m\u001b[0;34m]\u001b[0m \u001b[0;34m==\u001b[0m \u001b[0;34m\"Did\"\u001b[0m\u001b[0;34m]\u001b[0m\u001b[0;34m.\u001b[0m\u001b[0mindex\u001b[0m\u001b[0;34m[\u001b[0m\u001b[0;36m0\u001b[0m\u001b[0;34m]\u001b[0m\u001b[0;34m)\u001b[0m\u001b[0;34m\u001b[0m\u001b[0;34m\u001b[0m\u001b[0m\n\u001b[0m\u001b[1;32m      9\u001b[0m \u001b[0;34m\u001b[0m\u001b[0m\n\u001b[1;32m     10\u001b[0m   \u001b[0;31m#Create a minutes field to sum up every time - contingent upon convert_to_minutes() function\u001b[0m\u001b[0;34m\u001b[0m\u001b[0;34m\u001b[0m\u001b[0;34m\u001b[0m\u001b[0m\n",
            "\u001b[0;32m/usr/local/lib/python3.7/dist-packages/pandas/core/indexes/base.py\u001b[0m in \u001b[0;36m__getitem__\u001b[0;34m(self, key)\u001b[0m\n\u001b[1;32m   4102\u001b[0m         \u001b[0;32mif\u001b[0m \u001b[0mis_scalar\u001b[0m\u001b[0;34m(\u001b[0m\u001b[0mkey\u001b[0m\u001b[0;34m)\u001b[0m\u001b[0;34m:\u001b[0m\u001b[0;34m\u001b[0m\u001b[0;34m\u001b[0m\u001b[0m\n\u001b[1;32m   4103\u001b[0m             \u001b[0mkey\u001b[0m \u001b[0;34m=\u001b[0m \u001b[0mcom\u001b[0m\u001b[0;34m.\u001b[0m\u001b[0mcast_scalar_indexer\u001b[0m\u001b[0;34m(\u001b[0m\u001b[0mkey\u001b[0m\u001b[0;34m,\u001b[0m \u001b[0mwarn_float\u001b[0m\u001b[0;34m=\u001b[0m\u001b[0;32mTrue\u001b[0m\u001b[0;34m)\u001b[0m\u001b[0;34m\u001b[0m\u001b[0;34m\u001b[0m\u001b[0m\n\u001b[0;32m-> 4104\u001b[0;31m             \u001b[0;32mreturn\u001b[0m \u001b[0mgetitem\u001b[0m\u001b[0;34m(\u001b[0m\u001b[0mkey\u001b[0m\u001b[0;34m)\u001b[0m\u001b[0;34m\u001b[0m\u001b[0;34m\u001b[0m\u001b[0m\n\u001b[0m\u001b[1;32m   4105\u001b[0m \u001b[0;34m\u001b[0m\u001b[0m\n\u001b[1;32m   4106\u001b[0m         \u001b[0;32mif\u001b[0m \u001b[0misinstance\u001b[0m\u001b[0;34m(\u001b[0m\u001b[0mkey\u001b[0m\u001b[0;34m,\u001b[0m \u001b[0mslice\u001b[0m\u001b[0;34m)\u001b[0m\u001b[0;34m:\u001b[0m\u001b[0;34m\u001b[0m\u001b[0;34m\u001b[0m\u001b[0m\n",
            "\u001b[0;31mIndexError\u001b[0m: index 0 is out of bounds for axis 0 with size 0"
          ]
        },
        {
          "output_type": "display_data",
          "data": {
            "image/png": "[encoded data removed]",
            "text/plain": [
              "<Figure size 432x288 with 1 Axes>"
            ]
          },
          "metadata": {
            "tags": [],
            "needs_background": "light"
          }
        }
      ]
    },
    {
      "cell_type": "code",
      "metadata": {
        "colab": {
          "base_uri": "https://localhost:8080/",
          "height": 265
        },
        "id": "LrQrN3bT4a8W",
        "outputId": "87112134-e745-41dc-afbb-9b8d6f10c744"
      },
      "source": [
        "# Percentile distribution of finishers, average minutes for each percentile on y-axis\r\n",
        "fig = plt.figure()\r\n",
        "for year in [2020, 2021]:\r\n",
        "  df = find_percentiles(year)\r\n",
        "  #Find average number of minutes for each percentile (only relevant to this graph)\r\n",
        "  df = df.groupby(\"Percentiles\", as_index=False)[\"Minutes\"].mean()\r\n",
        "  plt.scatter(x=df[\"Percentiles\"], y=df[\"Minutes\"], alpha=0.5, s=10)"
      ],
      "execution_count": null,
      "outputs": [
        {
          "output_type": "display_data",
          "data": {
            "image/png": "[encoded data removed]",
            "text/plain": [
              "<Figure size 432x288 with 1 Axes>"
            ]
          },
          "metadata": {
            "tags": [],
            "needs_background": "light"
          }
        }
      ]
    },
    {
      "cell_type": "code",
      "metadata": {
        "colab": {
          "base_uri": "https://localhost:8080/",
          "height": 885
        },
        "id": "sK0T-Bdq700H",
        "outputId": "69e08bda-e6ec-46d2-c35c-621fa9ee6767"
      },
      "source": [
        "#Histogram of finishers in each percentile\r\n",
        "fig = plt.figure(figsize=(10,10))\r\n",
        "colors = {2020: \"dodgerblue\", 2021:\"orange\"}\r\n",
        "for year in [2014, 2016, 2017, 2018, 2019, 2020, 2021]:\r\n",
        "  df = find_percentiles(year)\r\n",
        "  #df[\"Minutes\"].hist(alpha=0.7, label=year, grid=False, bins=30, stacked=True, density=True)\r\n",
        "  kwargs = dict(hist_kws={'alpha':.2}, kde_kws={'linewidth':3})\r\n",
        "  sns.distplot(df[\"Minutes\"], **kwargs, bins=20, label=str(year), norm_hist=True)\r\n",
        "  \r\n",
        "  #Play around with y-axes values - currently set to invisible\r\n",
        "  plt.yticks([])\r\n",
        "\r\n",
        "\r\n",
        "plt.xlabel(\"Minutes\")\r\n",
        "plt.ylabel(\"Density\")\r\n",
        "plt.xlim(0, 1500)\r\n",
        "plt.legend()"
      ],
      "execution_count": 10,
      "outputs": [
        {
          "output_type": "stream",
          "text": [
            "/usr/local/lib/python3.7/dist-packages/seaborn/distributions.py:2557: FutureWarning: `distplot` is a deprecated function and will be removed in a future version. Please adapt your code to use either `displot` (a figure-level function with similar flexibility) or `histplot` (an axes-level function for histograms).\n",
            "  warnings.warn(msg, FutureWarning)\n",
            "/usr/local/lib/python3.7/dist-packages/seaborn/distributions.py:2557: FutureWarning: `distplot` is a deprecated function and will be removed in a future version. Please adapt your code to use either `displot` (a figure-level function with similar flexibility) or `histplot` (an axes-level function for histograms).\n",
            "  warnings.warn(msg, FutureWarning)\n",
            "/usr/local/lib/python3.7/dist-packages/seaborn/distributions.py:2557: FutureWarning: `distplot` is a deprecated function and will be removed in a future version. Please adapt your code to use either `displot` (a figure-level function with similar flexibility) or `histplot` (an axes-level function for histograms).\n",
            "  warnings.warn(msg, FutureWarning)\n",
            "/usr/local/lib/python3.7/dist-packages/seaborn/distributions.py:2557: FutureWarning: `distplot` is a deprecated function and will be removed in a future version. Please adapt your code to use either `displot` (a figure-level function with similar flexibility) or `histplot` (an axes-level function for histograms).\n",
            "  warnings.warn(msg, FutureWarning)\n",
            "/usr/local/lib/python3.7/dist-packages/seaborn/distributions.py:2557: FutureWarning: `distplot` is a deprecated function and will be removed in a future version. Please adapt your code to use either `displot` (a figure-level function with similar flexibility) or `histplot` (an axes-level function for histograms).\n",
            "  warnings.warn(msg, FutureWarning)\n",
            "/usr/local/lib/python3.7/dist-packages/seaborn/distributions.py:2557: FutureWarning: `distplot` is a deprecated function and will be removed in a future version. Please adapt your code to use either `displot` (a figure-level function with similar flexibility) or `histplot` (an axes-level function for histograms).\n",
            "  warnings.warn(msg, FutureWarning)\n",
            "/usr/local/lib/python3.7/dist-packages/seaborn/distributions.py:2557: FutureWarning: `distplot` is a deprecated function and will be removed in a future version. Please adapt your code to use either `displot` (a figure-level function with similar flexibility) or `histplot` (an axes-level function for histograms).\n",
            "  warnings.warn(msg, FutureWarning)\n"
          ],
          "name": "stderr"
        },
        {
          "output_type": "execute_result",
          "data": {
            "text/plain": [
              "<matplotlib.legend.Legend at 0x7f07e1a411d0>"
            ]
          },
          "metadata": {
            "tags": []
          },
          "execution_count": 10
        },
        {
          "output_type": "display_data",
          "data": {
            "image/png": "[encoded data removed]",
            "text/plain": [
              "<Figure size 720x720 with 1 Axes>"
            ]
          },
          "metadata": {
            "tags": [],
            "needs_background": "light"
          }
        }
      ]
    },
    {
      "cell_type": "code",
      "metadata": {
        "id": "5pf02Afw_vK_"
      },
      "source": [
        ""
      ],
      "execution_count": null,
      "outputs": []
    }
  ]
}