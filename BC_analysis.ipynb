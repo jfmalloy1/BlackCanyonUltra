{
  "nbformat": 4,
  "nbformat_minor": 0,
  "metadata": {
    "colab": {
      "name": "BC_analysis.ipynb",
      "provenance": []
    },
    "kernelspec": {
      "name": "python3",
      "display_name": "Python 3"
    }
  },
  "cells": [
    {
      "cell_type": "code",
      "metadata": {
        "colab": {
          "base_uri": "https://localhost:8080/"
        },
        "id": "4da-nMUeGNkT",
        "outputId": "ebb7f7a5-86f5-442a-eb84-32a44ff5d1cc"
      },
      "source": [
        "import pandas as pd\n",
        "import pickle\n",
        "import datetime as DT\n",
        "from operator import mul\n",
        "import matplotlib.pyplot as plt\n",
        "import numpy as np\n",
        "\n",
        "from google.colab import drive\n",
        "drive.mount('/content/gdrive')"
      ],
      "execution_count": 1,
      "outputs": [
        {
          "output_type": "stream",
          "text": [
            "Mounted at /content/gdrive\n"
          ],
          "name": "stdout"
        }
      ]
    },
    {
      "cell_type": "markdown",
      "metadata": {
        "id": "nvm1QYNUIOhj"
      },
      "source": [
        "Convert time to minutes\n",
        "\n",
        "From: https://stackoverflow.com/questions/48447123/convert-time-hhmmss-to-minutes-in-python/48447482 "
      ]
    },
    {
      "cell_type": "code",
      "metadata": {
        "id": "wkxD-SNsIM64"
      },
      "source": [
        "#Function to convert time to minutes\n",
        "def convert_to_minutes(my_time):\n",
        "  factors = (60, 1, 1/60)\n",
        "\n",
        "  t1 = sum(i*j for i, j in zip(map(int, my_time.split(':')), factors))\n",
        "  return t1"
      ],
      "execution_count": 15,
      "outputs": []
    },
    {
      "cell_type": "markdown",
      "metadata": {
        "id": "D8HPyyPpSOWm"
      },
      "source": [
        "# Analysis Function\n",
        "\n",
        "Reads in a specific year of results, returns a pandas dataframe of finisher data (including minutes elapsed)"
      ]
    },
    {
      "cell_type": "code",
      "metadata": {
        "id": "3f-8iDsISkh3"
      },
      "source": [
        "def analyze_year(year):\n",
        "  #Read in files\n",
        "  fp = \"/content/gdrive/Shared drives/ELIFE/People/Malloy, John/Random/Black Canyon/BC\" + str(year) + \"_100k.p\"\n",
        "  df = pickle.load(open(fp, \"rb\"))\n",
        "\n",
        "  #Drop the \"Did not finish\" line\n",
        "  df = df.drop(df.loc[df[\"State\"] == \"Did\"].index[0])\n",
        "\n",
        "  #Create a minutes field to sum up every time - contingent upon convert_to_minutes() function\n",
        "  df[\"Minutes\"] = df[\"Time\"].apply(convert_to_minutes)\n",
        "  \n",
        "  return df[df[\"Minutes\"] > 0]"
      ],
      "execution_count": 28,
      "outputs": []
    },
    {
      "cell_type": "markdown",
      "metadata": {
        "id": "rAGDUi0DTBcT"
      },
      "source": [
        "#Plotting"
      ]
    },
    {
      "cell_type": "code",
      "metadata": {
        "colab": {
          "base_uri": "https://localhost:8080/",
          "height": 279
        },
        "id": "8PBN6pFkLCnX",
        "outputId": "a5ab1f4a-728b-467d-f556-06cb16a465d7"
      },
      "source": [
        "fig = plt.figure()\n",
        "for year in [2020, 2021]:\n",
        "  df = analyze_year(year)\n",
        "  \n",
        "  plt.scatter(x=np.linspace(0,1,len(df)), y=df[\"Minutes\"], label=str(year) + \" BC 100k\", alpha=0.5, s=10, marker='x')\n",
        "  plt.xlabel(\"Finishing percentile\")\n",
        "  plt.ylabel(\"Minutes\")\n",
        "# plt.gca().spines(\"top\").set_visible(False)\n",
        "# plt.gca().spines(\"right\").set_visible(False)\n",
        "plt.legend()\n",
        "plt.show()"
      ],
      "execution_count": 51,
      "outputs": [
        {
          "output_type": "display_data",
          "data": {
            "image/png": "[encoded data removed]",
            "text/plain": [
              "<Figure size 432x288 with 1 Axes>"
            ]
          },
          "metadata": {
            "tags": [],
            "needs_background": "light"
          }
        }
      ]
    }
  ]
}